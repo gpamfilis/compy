{
 "cells": [
  {
   "cell_type": "code",
   "execution_count": 2,
   "metadata": {
    "collapsed": true
   },
   "outputs": [],
   "source": [
    "from particles import Particles as par\n",
    "from moments import Moments"
   ]
  },
  {
   "cell_type": "code",
   "execution_count": 3,
   "metadata": {
    "collapsed": true
   },
   "outputs": [],
   "source": [
    "import numpy as np\n",
    "import pandas as pd"
   ]
  },
  {
   "cell_type": "code",
   "execution_count": 4,
   "metadata": {
    "collapsed": false
   },
   "outputs": [],
   "source": [
    "import matplotlib.pyplot as plt\n",
    "%matplotlib inline"
   ]
  },
  {
   "cell_type": "markdown",
   "metadata": {},
   "source": [
    "# This is the data in the x direction"
   ]
  },
  {
   "cell_type": "markdown",
   "metadata": {},
   "source": [
    "## The columns are the time steps. Each row represents a particle and its position at each time step"
   ]
  },
  {
   "cell_type": "markdown",
   "metadata": {},
   "source": [
    "### The media has a length of 100 mm, start_time = 0, step = 10, end_time = 15000. time is in minutes"
   ]
  },
  {
   "cell_type": "code",
   "execution_count": 5,
   "metadata": {
    "collapsed": false
   },
   "outputs": [
    {
     "data": {
      "text/html": [
       "<div>\n",
       "<table border=\"1\" class=\"dataframe\">\n",
       "  <thead>\n",
       "    <tr style=\"text-align: right;\">\n",
       "      <th></th>\n",
       "      <th>0</th>\n",
       "      <th>1</th>\n",
       "      <th>2</th>\n",
       "      <th>3</th>\n",
       "      <th>4</th>\n",
       "      <th>5</th>\n",
       "      <th>6</th>\n",
       "      <th>7</th>\n",
       "      <th>8</th>\n",
       "      <th>9</th>\n",
       "      <th>...</th>\n",
       "      <th>1491</th>\n",
       "      <th>1492</th>\n",
       "      <th>1493</th>\n",
       "      <th>1494</th>\n",
       "      <th>1495</th>\n",
       "      <th>1496</th>\n",
       "      <th>1497</th>\n",
       "      <th>1498</th>\n",
       "      <th>1499</th>\n",
       "      <th>1500</th>\n",
       "    </tr>\n",
       "  </thead>\n",
       "  <tbody>\n",
       "    <tr>\n",
       "      <th>0</th>\n",
       "      <td>0</td>\n",
       "      <td>0</td>\n",
       "      <td>0</td>\n",
       "      <td>0</td>\n",
       "      <td>0</td>\n",
       "      <td>0</td>\n",
       "      <td>0</td>\n",
       "      <td>0</td>\n",
       "      <td>0</td>\n",
       "      <td>0</td>\n",
       "      <td>...</td>\n",
       "      <td>100</td>\n",
       "      <td>100</td>\n",
       "      <td>100</td>\n",
       "      <td>100</td>\n",
       "      <td>100</td>\n",
       "      <td>100</td>\n",
       "      <td>100</td>\n",
       "      <td>100</td>\n",
       "      <td>100</td>\n",
       "      <td>100</td>\n",
       "    </tr>\n",
       "    <tr>\n",
       "      <th>1</th>\n",
       "      <td>0</td>\n",
       "      <td>0</td>\n",
       "      <td>0</td>\n",
       "      <td>0</td>\n",
       "      <td>0</td>\n",
       "      <td>0</td>\n",
       "      <td>0</td>\n",
       "      <td>0</td>\n",
       "      <td>0</td>\n",
       "      <td>0</td>\n",
       "      <td>...</td>\n",
       "      <td>100</td>\n",
       "      <td>100</td>\n",
       "      <td>100</td>\n",
       "      <td>100</td>\n",
       "      <td>100</td>\n",
       "      <td>100</td>\n",
       "      <td>100</td>\n",
       "      <td>100</td>\n",
       "      <td>100</td>\n",
       "      <td>100</td>\n",
       "    </tr>\n",
       "    <tr>\n",
       "      <th>2</th>\n",
       "      <td>0</td>\n",
       "      <td>0</td>\n",
       "      <td>0</td>\n",
       "      <td>0</td>\n",
       "      <td>0</td>\n",
       "      <td>0</td>\n",
       "      <td>0</td>\n",
       "      <td>0</td>\n",
       "      <td>0</td>\n",
       "      <td>0</td>\n",
       "      <td>...</td>\n",
       "      <td>100</td>\n",
       "      <td>100</td>\n",
       "      <td>100</td>\n",
       "      <td>100</td>\n",
       "      <td>100</td>\n",
       "      <td>100</td>\n",
       "      <td>100</td>\n",
       "      <td>100</td>\n",
       "      <td>100</td>\n",
       "      <td>100</td>\n",
       "    </tr>\n",
       "    <tr>\n",
       "      <th>3</th>\n",
       "      <td>0</td>\n",
       "      <td>0</td>\n",
       "      <td>0</td>\n",
       "      <td>0</td>\n",
       "      <td>0</td>\n",
       "      <td>0</td>\n",
       "      <td>0</td>\n",
       "      <td>0</td>\n",
       "      <td>0</td>\n",
       "      <td>0</td>\n",
       "      <td>...</td>\n",
       "      <td>100</td>\n",
       "      <td>100</td>\n",
       "      <td>100</td>\n",
       "      <td>100</td>\n",
       "      <td>100</td>\n",
       "      <td>100</td>\n",
       "      <td>100</td>\n",
       "      <td>100</td>\n",
       "      <td>100</td>\n",
       "      <td>100</td>\n",
       "    </tr>\n",
       "    <tr>\n",
       "      <th>4</th>\n",
       "      <td>0</td>\n",
       "      <td>0</td>\n",
       "      <td>0</td>\n",
       "      <td>0</td>\n",
       "      <td>0</td>\n",
       "      <td>0</td>\n",
       "      <td>0</td>\n",
       "      <td>0</td>\n",
       "      <td>0</td>\n",
       "      <td>0</td>\n",
       "      <td>...</td>\n",
       "      <td>100</td>\n",
       "      <td>100</td>\n",
       "      <td>100</td>\n",
       "      <td>100</td>\n",
       "      <td>100</td>\n",
       "      <td>100</td>\n",
       "      <td>100</td>\n",
       "      <td>100</td>\n",
       "      <td>100</td>\n",
       "      <td>100</td>\n",
       "    </tr>\n",
       "  </tbody>\n",
       "</table>\n",
       "<p>5 rows × 1501 columns</p>\n",
       "</div>"
      ],
      "text/plain": [
       "   0     1     2     3     4     5     6     7     8     9     ...   1491  \\\n",
       "0     0     0     0     0     0     0     0     0     0     0  ...    100   \n",
       "1     0     0     0     0     0     0     0     0     0     0  ...    100   \n",
       "2     0     0     0     0     0     0     0     0     0     0  ...    100   \n",
       "3     0     0     0     0     0     0     0     0     0     0  ...    100   \n",
       "4     0     0     0     0     0     0     0     0     0     0  ...    100   \n",
       "\n",
       "   1492  1493  1494  1495  1496  1497  1498  1499  1500  \n",
       "0   100   100   100   100   100   100   100   100   100  \n",
       "1   100   100   100   100   100   100   100   100   100  \n",
       "2   100   100   100   100   100   100   100   100   100  \n",
       "3   100   100   100   100   100   100   100   100   100  \n",
       "4   100   100   100   100   100   100   100   100   100  \n",
       "\n",
       "[5 rows x 1501 columns]"
      ]
     },
     "execution_count": 5,
     "metadata": {},
     "output_type": "execute_result"
    }
   ],
   "source": [
    "part = par('./data/position_data_a.txt', dimension=1,time_end=15000,time_step=10)\n",
    "part.qx.head()\n",
    "# particle_distribution_df = part.particle_distribution(90,part.time,part.qx)"
   ]
  },
  {
   "cell_type": "markdown",
   "metadata": {},
   "source": [
    "### shape of the dataframe"
   ]
  },
  {
   "cell_type": "code",
   "execution_count": 6,
   "metadata": {
    "collapsed": false
   },
   "outputs": [
    {
     "data": {
      "text/plain": [
       "(10000, 1501)"
      ]
     },
     "execution_count": 6,
     "metadata": {},
     "output_type": "execute_result"
    }
   ],
   "source": [
    "part.qx.shape"
   ]
  },
  {
   "cell_type": "markdown",
   "metadata": {},
   "source": [
    "# cumulative distribution of particles"
   ]
  },
  {
   "cell_type": "code",
   "execution_count": 7,
   "metadata": {
    "collapsed": false
   },
   "outputs": [
    {
     "name": "stdout",
     "output_type": "stream",
     "text": [
      "At slice L=  0\n",
      "At slice L=  20\n",
      "At slice L=  40\n",
      "At slice L=  60\n",
      "At slice L=  80\n",
      "At slice L=  100\n"
     ]
    },
    {
     "data": {
      "text/plain": [
       "<matplotlib.text.Text at 0x108881940>"
      ]
     },
     "execution_count": 7,
     "metadata": {},
     "output_type": "execute_result"
    },
    {
     "data": {
      "image/png": "[encoded data removed]",
      "text/plain": [
       "<matplotlib.figure.Figure at 0x108ae4898>"
      ]
     },
     "metadata": {},
     "output_type": "display_data"
    }
   ],
   "source": [
    "for l in range(0, 120, 20):\n",
    "    print('At slice L= ',l)\n",
    "    plt.plot(range(0,15010,10),part.particle_distribution(l,part.time,part.qx).cumulative)\n",
    "plt.grid(1)\n",
    "plt.xlabel('time [min]')\n",
    "plt.ylabel('number of particles')\n",
    "plt.title('cumulative distribution of particles at various lengths of the media')"
   ]
  },
  {
   "cell_type": "markdown",
   "metadata": {},
   "source": [
    "# discrete distribution of particles"
   ]
  },
  {
   "cell_type": "code",
   "execution_count": 8,
   "metadata": {
    "collapsed": false
   },
   "outputs": [
    {
     "name": "stdout",
     "output_type": "stream",
     "text": [
      "At slice L=  0\n",
      "At slice L=  20\n",
      "At slice L=  40\n",
      "At slice L=  60\n",
      "At slice L=  80\n",
      "At slice L=  100\n"
     ]
    },
    {
     "data": {
      "text/plain": [
       "(0, 200)"
      ]
     },
     "execution_count": 8,
     "metadata": {},
     "output_type": "execute_result"
    },
    {
     "data": {
      "image/png": "[encoded data removed]",
      "text/plain": [
       "<matplotlib.figure.Figure at 0x108ae4080>"
      ]
     },
     "metadata": {},
     "output_type": "display_data"
    }
   ],
   "source": [
    "for l in range(0, 120, 20):\n",
    "    print('At slice L= ',l)\n",
    "    plt.plot(range(0,15010,10),part.particle_distribution(l,part.time,part.qx).discrete)\n",
    "plt.grid(1)\n",
    "plt.xlabel('time [min]')\n",
    "plt.ylabel('number of particles')\n",
    "plt.title('discrete distribution of particles at various lengths of the media')\n",
    "plt.ylim(0,200)"
   ]
  },
  {
   "cell_type": "markdown",
   "metadata": {},
   "source": [
    "## Temporal Moment Calculation (order = 1)"
   ]
  },
  {
   "cell_type": "code",
   "execution_count": 9,
   "metadata": {
    "collapsed": false
   },
   "outputs": [
    {
     "name": "stdout",
     "output_type": "stream",
     "text": [
      "moment for slice L=  0 0.0\n",
      "moment for slice L=  20 259926500.0\n",
      "moment for slice L=  40 517744200.0\n",
      "moment for slice L=  60 775593400.0\n",
      "moment for slice L=  80 1031306900.0\n",
      "moment for slice L=  100 1170428300.0\n"
     ]
    },
    {
     "data": {
      "text/plain": [
       "[<matplotlib.lines.Line2D at 0x1088d7320>]"
      ]
     },
     "execution_count": 9,
     "metadata": {},
     "output_type": "execute_result"
    },
    {
     "data": {
      "image/png": "[encoded data removed]",
      "text/plain": [
       "<matplotlib.figure.Figure at 0x108833240>"
      ]
     },
     "metadata": {},
     "output_type": "display_data"
    }
   ],
   "source": [
    "m = []\n",
    "for i, l in enumerate(range(0,120,20)):\n",
    "    particle_distribution_df = part.particle_distribution(l,part.time,part.qx)\n",
    "    dis = particle_distribution_df['discrete'].values\n",
    "#     dis = dis[dis!=0]\n",
    "#     plt.scatter(range(dis.shape[0]),dis,color=colors[i])\n",
    "    mom = Moments.temporal_moment(1,range(0,15010,10),dis)\n",
    "    m.append(mom)\n",
    "    print('moment for slice L= ',l,mom)\n",
    "plt.plot(range(0,120,20),m)"
   ]
  },
  {
   "cell_type": "markdown",
   "metadata": {},
   "source": [
    "## Normalized Temporal Moment Calculation (order = 1)"
   ]
  },
  {
   "cell_type": "code",
   "execution_count": 10,
   "metadata": {
    "collapsed": false
   },
   "outputs": [
    {
     "name": "stdout",
     "output_type": "stream",
     "text": [
      "moment for slice L=  0 nan\n",
      "moment for slice L=  20 2599.265\n",
      "moment for slice L=  40 5177.442\n",
      "moment for slice L=  60 7755.934\n",
      "moment for slice L=  80 10324.4258685\n",
      "moment for slice L=  100 12657.3840164\n"
     ]
    },
    {
     "data": {
      "text/plain": [
       "[<matplotlib.lines.Line2D at 0x108935748>]"
      ]
     },
     "execution_count": 10,
     "metadata": {},
     "output_type": "execute_result"
    },
    {
     "data": {
      "image/png": "[encoded data removed]",
      "text/plain": [
       "<matplotlib.figure.Figure at 0x10881c8d0>"
      ]
     },
     "metadata": {},
     "output_type": "display_data"
    }
   ],
   "source": [
    "m = []\n",
    "for i, l in enumerate(range(0,120,20)):\n",
    "    particle_distribution_df = part.particle_distribution(l,part.time,part.qx)\n",
    "    dis = particle_distribution_df['discrete'].values\n",
    "#     dis = dis[dis!=0]\n",
    "#     plt.scatter(range(dis.shape[0]),dis,color=colors[i])\n",
    "    mom = Moments.normalized_temporal_moment(1,range(0,15010,10),dis)\n",
    "    m.append(mom)\n",
    "    print('moment for slice L= ',l,mom)\n",
    "plt.plot(range(0,120,20),m)"
   ]
  },
  {
   "cell_type": "markdown",
   "metadata": {},
   "source": [
    "### Question: on the above graoh we can see that for L=100mm, the mean residence time is 12657 min ?\n",
    "i know that the simulation time was 15000 mi"
   ]
  },
  {
   "cell_type": "markdown",
   "metadata": {},
   "source": [
    "## Temporal Moment Calculation (order = 2)"
   ]
  },
  {
   "cell_type": "code",
   "execution_count": 11,
   "metadata": {
    "collapsed": false
   },
   "outputs": [
    {
     "name": "stdout",
     "output_type": "stream",
     "text": [
      "moment for slice L=  0 0.0\n",
      "moment for slice L=  20 709603965000.0\n",
      "moment for slice L=  40 2.75541792e+12\n",
      "moment for slice L=  60 6.129797126e+12\n",
      "moment for slice L=  80 1.0798623625e+13\n",
      "moment for slice L=  100 1.4932950839e+13\n"
     ]
    },
    {
     "data": {
      "text/plain": [
       "[<matplotlib.lines.Line2D at 0x10899c2b0>]"
      ]
     },
     "execution_count": 11,
     "metadata": {},
     "output_type": "execute_result"
    },
    {
     "data": {
      "image/png": "[encoded data removed]",
      "text/plain": [
       "<matplotlib.figure.Figure at 0x108944320>"
      ]
     },
     "metadata": {},
     "output_type": "display_data"
    }
   ],
   "source": [
    "m = []\n",
    "for i, l in enumerate(range(0,120,20)):\n",
    "    particle_distribution_df = part.particle_distribution(l,part.time,part.qx)\n",
    "    dis = particle_distribution_df['discrete'].values\n",
    "#     dis = dis[dis!=0]\n",
    "#     plt.scatter(range(dis.shape[0]),dis,color=colors[i])\n",
    "    mom = Moments.temporal_moment(2,range(0,15010,10),dis)\n",
    "    m.append(mom)\n",
    "    print('moment for slice L= ',l,mom)\n",
    "plt.plot(range(0,120,20),m)"
   ]
  },
  {
   "cell_type": "markdown",
   "metadata": {},
   "source": [
    "## Normalized Temporal Moment Calculation (order = 2)"
   ]
  },
  {
   "cell_type": "code",
   "execution_count": 13,
   "metadata": {
    "collapsed": false
   },
   "outputs": [
    {
     "name": "stdout",
     "output_type": "stream",
     "text": [
      "moment for slice L=  0 nan\n",
      "moment for slice L=  20 7096039.65\n",
      "moment for slice L=  40 27554179.2\n",
      "moment for slice L=  60 61297971.26\n",
      "moment for slice L=  80 108105151.917\n",
      "moment for slice L=  100 161489681.399\n"
     ]
    },
    {
     "data": {
      "text/plain": [
       "[<matplotlib.lines.Line2D at 0x107e20e80>]"
      ]
     },
     "execution_count": 13,
     "metadata": {},
     "output_type": "execute_result"
    },
    {
     "data": {
      "image/png": "[encoded data removed]",
      "text/plain": [
       "<matplotlib.figure.Figure at 0x10882fd30>"
      ]
     },
     "metadata": {},
     "output_type": "display_data"
    }
   ],
   "source": [
    "m = []\n",
    "for i, l in enumerate(range(0,120,20)):\n",
    "    particle_distribution_df = part.particle_distribution(l,part.time,part.qx)\n",
    "    dis = particle_distribution_df['discrete'].values\n",
    "#     dis = dis[dis!=0]\n",
    "#     plt.scatter(range(dis.shape[0]),dis,color=colors[i])\n",
    "    mom = Moments.normalized_temporal_moment(2,range(0,15010,10),dis)\n",
    "    m.append(mom)\n",
    "    print('moment for slice L= ',l,mom)\n",
    "plt.plot(range(0,120,20),m)"
   ]
  },
  {
   "cell_type": "code",
   "execution_count": null,
   "metadata": {
    "collapsed": true
   },
   "outputs": [],
   "source": [
    ""
   ]
  }
 ],
 "metadata": {
  "kernelspec": {
   "display_name": "Python 3",
   "language": "python",
   "name": "python3"
  },
  "language_info": {
   "codemirror_mode": {
    "name": "ipython",
    "version": 3.0
   },
   "file_extension": ".py",
   "mimetype": "text/x-python",
   "name": "python",
   "nbconvert_exporter": "python",
   "pygments_lexer": "ipython3",
   "version": "3.4.5"
  }
 },
 "nbformat": 4,
 "nbformat_minor": 0
}