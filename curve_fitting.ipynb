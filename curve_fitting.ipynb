{
 "cells": [
  {
   "cell_type": "code",
   "execution_count": 1,
   "metadata": {
    "collapsed": true
   },
   "outputs": [],
   "source": [
    "import numpy as np\n",
    "from scipy.integrate import odeint\n",
    "from scipy.optimize import curve_fit"
   ]
  },
  {
   "cell_type": "code",
   "execution_count": 2,
   "metadata": {
    "collapsed": true
   },
   "outputs": [],
   "source": [
    "%matplotlib inline"
   ]
  },
  {
   "cell_type": "code",
   "execution_count": 3,
   "metadata": {
    "collapsed": true
   },
   "outputs": [],
   "source": [
    "import matplotlib.pyplot as plt"
   ]
  },
  {
   "cell_type": "code",
   "execution_count": 5,
   "metadata": {
    "collapsed": false
   },
   "outputs": [
    {
     "name": "stdout",
     "output_type": "stream",
     "text": [
      "a = 0.00213108\n",
      "b = 6.44547\n",
      "y0 = -3.02324\n"
     ]
    },
    {
     "data": {
      "text/plain": [
       "[<matplotlib.lines.Line2D at 0x107b53190>,\n",
       " <matplotlib.lines.Line2D at 0x107b53290>]"
      ]
     },
     "execution_count": 5,
     "metadata": {},
     "output_type": "execute_result"
    },
    {
     "data": {
      "image/png": "[encoded data removed]",
      "text/plain": [
       "<matplotlib.figure.Figure at 0x107b1cdd0>"
      ]
     },
     "metadata": {},
     "output_type": "display_data"
    }
   ],
   "source": [
    "def f(y, t, a, b):\n",
    "    return a*y**2 + b\n",
    "\n",
    "def y(t, a, b, y0):\n",
    "    \"\"\"\n",
    "    Solution to the ODE y'(t) = f(t,y,a,b) with initial condition y(0) = y0\n",
    "    \"\"\"\n",
    "    y = odeint(f, y0, t, args=(a, b))\n",
    "    return y.ravel()\n",
    "\n",
    "# Some random data to fit\n",
    "data_t = np.sort(np.random.rand(200) * 10)\n",
    "data_y = data_t**2 + np.random.rand(200)*10\n",
    "\n",
    "popt, cov = curve_fit(y, data_t, data_y, [-1.2, 0.1, 0])\n",
    "a_opt, b_opt, y0_opt = popt\n",
    "\n",
    "print(\"a = %g\" % a_opt)\n",
    "print(\"b = %g\" % b_opt)\n",
    "print(\"y0 = %g\" % y0_opt)\n",
    "\n",
    "t = np.linspace(0, 10, 2000)\n",
    "plt.plot(data_t, data_y, '.',\n",
    "         t, y(t, a_opt, b_opt, y0_opt), '-')\n",
    "# plt.gcf().set_size_inches(6, 4)\n",
    "# plt.savefig('out.png', dpi=96)\n",
    "# plt.show()"
   ]
  },
  {
   "cell_type": "code",
   "execution_count": null,
   "metadata": {
    "collapsed": true
   },
   "outputs": [],
   "source": []
  }
 ],
 "metadata": {
  "kernelspec": {
   "display_name": "Python 2",
   "language": "python",
   "name": "python2"
  },
  "language_info": {
   "codemirror_mode": {
    "name": "ipython",
    "version": 2
   },
   "file_extension": ".py",
   "mimetype": "text/x-python",
   "name": "python",
   "nbconvert_exporter": "python",
   "pygments_lexer": "ipython2",
   "version": "2.7.5"
  }
 },
 "nbformat": 4,
 "nbformat_minor": 2
}
