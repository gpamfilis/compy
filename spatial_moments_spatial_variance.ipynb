{
 "cells": [
  {
   "cell_type": "markdown",
   "metadata": {
    "deletable": true,
    "editable": true
   },
   "source": [
    "### The simulation was run with only one seed for the random generator."
   ]
  },
  {
   "cell_type": "code",
   "execution_count": 55,
   "metadata": {
    "collapsed": true,
    "deletable": true,
    "editable": true
   },
   "outputs": [],
   "source": [
    "import pandas as pd\n",
    "import numpy as np\n",
    "import matplotlib.pyplot as plt\n",
    "import seaborn as sns\n",
    "import scipy\n",
    "from scipy import stats\n",
    "\n",
    "import particles\n",
    "from moments import SpatialMoments\n",
    "# from moments import sample_compute_moments\n",
    "# from utils import first_moment_shading\n",
    "from utils import Graphs\n",
    "\n",
    "%matplotlib inline\n",
    "sns.set(style=\"ticks\")\n",
    "plt.rcParams['figure.figsize'] = (20, 16)\n",
    "plt.rcParams['xtick.labelsize'] = 'x-large'\n",
    "plt.rcParams['ytick.labelsize'] = 'x-large'"
   ]
  },
  {
   "cell_type": "code",
   "execution_count": 56,
   "metadata": {
    "collapsed": false,
    "deletable": true,
    "editable": true
   },
   "outputs": [
    {
     "data": {
      "text/html": [
       "<div>\n",
       "<table border=\"1\" class=\"dataframe\">\n",
       "  <thead>\n",
       "    <tr style=\"text-align: right;\">\n",
       "      <th></th>\n",
       "      <th>m0_250</th>\n",
       "      <th>m0_500</th>\n",
       "      <th>m0_750</th>\n",
       "      <th>m0_1000</th>\n",
       "      <th>m0_1250</th>\n",
       "      <th>m0_1500</th>\n",
       "      <th>m0_1750</th>\n",
       "      <th>m0_2000</th>\n",
       "    </tr>\n",
       "  </thead>\n",
       "  <tbody>\n",
       "    <tr>\n",
       "      <th>0.00</th>\n",
       "      <td>1000</td>\n",
       "      <td>1000</td>\n",
       "      <td>1000</td>\n",
       "      <td>1000</td>\n",
       "      <td>1000</td>\n",
       "      <td>1000</td>\n",
       "      <td>1000</td>\n",
       "      <td>1000</td>\n",
       "    </tr>\n",
       "    <tr>\n",
       "      <th>0.01</th>\n",
       "      <td>1000</td>\n",
       "      <td>1000</td>\n",
       "      <td>999</td>\n",
       "      <td>1000</td>\n",
       "      <td>1000</td>\n",
       "      <td>1000</td>\n",
       "      <td>1000</td>\n",
       "      <td>1000</td>\n",
       "    </tr>\n",
       "    <tr>\n",
       "      <th>0.02</th>\n",
       "      <td>999</td>\n",
       "      <td>1000</td>\n",
       "      <td>999</td>\n",
       "      <td>1000</td>\n",
       "      <td>1000</td>\n",
       "      <td>1000</td>\n",
       "      <td>1000</td>\n",
       "      <td>1000</td>\n",
       "    </tr>\n",
       "    <tr>\n",
       "      <th>0.03</th>\n",
       "      <td>999</td>\n",
       "      <td>1000</td>\n",
       "      <td>999</td>\n",
       "      <td>999</td>\n",
       "      <td>1000</td>\n",
       "      <td>1000</td>\n",
       "      <td>1000</td>\n",
       "      <td>1000</td>\n",
       "    </tr>\n",
       "    <tr>\n",
       "      <th>0.04</th>\n",
       "      <td>999</td>\n",
       "      <td>1000</td>\n",
       "      <td>999</td>\n",
       "      <td>999</td>\n",
       "      <td>1000</td>\n",
       "      <td>1000</td>\n",
       "      <td>1000</td>\n",
       "      <td>1000</td>\n",
       "    </tr>\n",
       "  </tbody>\n",
       "</table>\n",
       "</div>"
      ],
      "text/plain": [
       "      m0_250  m0_500  m0_750  m0_1000  m0_1250  m0_1500  m0_1750  m0_2000\n",
       "0.00    1000    1000    1000     1000     1000     1000     1000     1000\n",
       "0.01    1000    1000     999     1000     1000     1000     1000     1000\n",
       "0.02     999    1000     999     1000     1000     1000     1000     1000\n",
       "0.03     999    1000     999      999     1000     1000     1000     1000\n",
       "0.04     999    1000     999      999     1000     1000     1000     1000"
      ]
     },
     "execution_count": 56,
     "metadata": {},
     "output_type": "execute_result"
    }
   ],
   "source": [
    "m0x = pd.read_csv('/Users/georgepamfilis/Dropbox/THESIS/Διπλωματική/V1/0_moments_x.csv',index_col=0)\n",
    "m0x.head()"
   ]
  },
  {
   "cell_type": "code",
   "execution_count": 57,
   "metadata": {
    "collapsed": false,
    "deletable": true,
    "editable": true
   },
   "outputs": [
    {
     "data": {
      "text/html": [
       "<div>\n",
       "<table border=\"1\" class=\"dataframe\">\n",
       "  <thead>\n",
       "    <tr style=\"text-align: right;\">\n",
       "      <th></th>\n",
       "      <th>m0_250</th>\n",
       "      <th>m0_500</th>\n",
       "      <th>m0_750</th>\n",
       "      <th>m0_1000</th>\n",
       "      <th>m0_1250</th>\n",
       "      <th>m0_1500</th>\n",
       "      <th>m0_1750</th>\n",
       "      <th>m0_2000</th>\n",
       "    </tr>\n",
       "  </thead>\n",
       "  <tbody>\n",
       "    <tr>\n",
       "      <th>0.00</th>\n",
       "      <td>1000</td>\n",
       "      <td>1000</td>\n",
       "      <td>1000</td>\n",
       "      <td>1000</td>\n",
       "      <td>1000</td>\n",
       "      <td>1000</td>\n",
       "      <td>1000</td>\n",
       "      <td>1000</td>\n",
       "    </tr>\n",
       "    <tr>\n",
       "      <th>0.01</th>\n",
       "      <td>1000</td>\n",
       "      <td>1000</td>\n",
       "      <td>999</td>\n",
       "      <td>1000</td>\n",
       "      <td>1000</td>\n",
       "      <td>1000</td>\n",
       "      <td>1000</td>\n",
       "      <td>1000</td>\n",
       "    </tr>\n",
       "    <tr>\n",
       "      <th>0.02</th>\n",
       "      <td>999</td>\n",
       "      <td>1000</td>\n",
       "      <td>999</td>\n",
       "      <td>1000</td>\n",
       "      <td>1000</td>\n",
       "      <td>1000</td>\n",
       "      <td>1000</td>\n",
       "      <td>1000</td>\n",
       "    </tr>\n",
       "    <tr>\n",
       "      <th>0.03</th>\n",
       "      <td>999</td>\n",
       "      <td>1000</td>\n",
       "      <td>999</td>\n",
       "      <td>999</td>\n",
       "      <td>1000</td>\n",
       "      <td>1000</td>\n",
       "      <td>1000</td>\n",
       "      <td>1000</td>\n",
       "    </tr>\n",
       "    <tr>\n",
       "      <th>0.04</th>\n",
       "      <td>999</td>\n",
       "      <td>1000</td>\n",
       "      <td>999</td>\n",
       "      <td>999</td>\n",
       "      <td>1000</td>\n",
       "      <td>1000</td>\n",
       "      <td>1000</td>\n",
       "      <td>1000</td>\n",
       "    </tr>\n",
       "  </tbody>\n",
       "</table>\n",
       "</div>"
      ],
      "text/plain": [
       "      m0_250  m0_500  m0_750  m0_1000  m0_1250  m0_1500  m0_1750  m0_2000\n",
       "0.00    1000    1000    1000     1000     1000     1000     1000     1000\n",
       "0.01    1000    1000     999     1000     1000     1000     1000     1000\n",
       "0.02     999    1000     999     1000     1000     1000     1000     1000\n",
       "0.03     999    1000     999      999     1000     1000     1000     1000\n",
       "0.04     999    1000     999      999     1000     1000     1000     1000"
      ]
     },
     "execution_count": 57,
     "metadata": {},
     "output_type": "execute_result"
    }
   ],
   "source": [
    "m0y = pd.read_csv('/Users/georgepamfilis/Dropbox/THESIS/Διπλωματική/V1/0_moments_y.csv',index_col=0)\n",
    "m0y.head()"
   ]
  },
  {
   "cell_type": "code",
   "execution_count": 58,
   "metadata": {
    "collapsed": false,
    "deletable": true,
    "editable": true
   },
   "outputs": [
    {
     "data": {
      "text/html": [
       "<div>\n",
       "<table border=\"1\" class=\"dataframe\">\n",
       "  <thead>\n",
       "    <tr style=\"text-align: right;\">\n",
       "      <th></th>\n",
       "      <th>m1x_250</th>\n",
       "      <th>m1x_500</th>\n",
       "      <th>m1x_750</th>\n",
       "      <th>m1x_1000</th>\n",
       "      <th>m1x_1250</th>\n",
       "      <th>m1x_1500</th>\n",
       "      <th>m1x_1750</th>\n",
       "      <th>m1x_2000</th>\n",
       "    </tr>\n",
       "  </thead>\n",
       "  <tbody>\n",
       "    <tr>\n",
       "      <th>0.00</th>\n",
       "      <td>0.000000</td>\n",
       "      <td>0.000000</td>\n",
       "      <td>0.000000</td>\n",
       "      <td>0.000000</td>\n",
       "      <td>0.000000</td>\n",
       "      <td>0.000000</td>\n",
       "      <td>0.000000</td>\n",
       "      <td>0.000000</td>\n",
       "    </tr>\n",
       "    <tr>\n",
       "      <th>0.01</th>\n",
       "      <td>10.679141</td>\n",
       "      <td>7.160797</td>\n",
       "      <td>10.403683</td>\n",
       "      <td>8.085030</td>\n",
       "      <td>6.518178</td>\n",
       "      <td>6.609993</td>\n",
       "      <td>6.045094</td>\n",
       "      <td>5.432802</td>\n",
       "    </tr>\n",
       "    <tr>\n",
       "      <th>0.02</th>\n",
       "      <td>12.144717</td>\n",
       "      <td>8.526455</td>\n",
       "      <td>10.840961</td>\n",
       "      <td>9.168432</td>\n",
       "      <td>7.472807</td>\n",
       "      <td>7.566283</td>\n",
       "      <td>6.933114</td>\n",
       "      <td>6.356309</td>\n",
       "    </tr>\n",
       "    <tr>\n",
       "      <th>0.03</th>\n",
       "      <td>13.454158</td>\n",
       "      <td>9.646475</td>\n",
       "      <td>11.576548</td>\n",
       "      <td>10.222306</td>\n",
       "      <td>8.282357</td>\n",
       "      <td>8.126322</td>\n",
       "      <td>7.819755</td>\n",
       "      <td>7.394303</td>\n",
       "    </tr>\n",
       "    <tr>\n",
       "      <th>0.04</th>\n",
       "      <td>14.388169</td>\n",
       "      <td>10.733715</td>\n",
       "      <td>12.279010</td>\n",
       "      <td>11.047594</td>\n",
       "      <td>8.891159</td>\n",
       "      <td>9.028212</td>\n",
       "      <td>8.388335</td>\n",
       "      <td>8.035244</td>\n",
       "    </tr>\n",
       "  </tbody>\n",
       "</table>\n",
       "</div>"
      ],
      "text/plain": [
       "        m1x_250    m1x_500    m1x_750   m1x_1000  m1x_1250  m1x_1500  \\\n",
       "0.00   0.000000   0.000000   0.000000   0.000000  0.000000  0.000000   \n",
       "0.01  10.679141   7.160797  10.403683   8.085030  6.518178  6.609993   \n",
       "0.02  12.144717   8.526455  10.840961   9.168432  7.472807  7.566283   \n",
       "0.03  13.454158   9.646475  11.576548  10.222306  8.282357  8.126322   \n",
       "0.04  14.388169  10.733715  12.279010  11.047594  8.891159  9.028212   \n",
       "\n",
       "      m1x_1750  m1x_2000  \n",
       "0.00  0.000000  0.000000  \n",
       "0.01  6.045094  5.432802  \n",
       "0.02  6.933114  6.356309  \n",
       "0.03  7.819755  7.394303  \n",
       "0.04  8.388335  8.035244  "
      ]
     },
     "execution_count": 58,
     "metadata": {},
     "output_type": "execute_result"
    }
   ],
   "source": [
    "m1x = pd.read_csv('/Users/georgepamfilis/Dropbox/THESIS/Διπλωματική/V1/1_moments_x.csv',index_col=0)\n",
    "m1x.head()"
   ]
  },
  {
   "cell_type": "code",
   "execution_count": 59,
   "metadata": {
    "collapsed": false
   },
   "outputs": [
    {
     "data": {
      "text/html": [
       "<div>\n",
       "<table border=\"1\" class=\"dataframe\">\n",
       "  <thead>\n",
       "    <tr style=\"text-align: right;\">\n",
       "      <th></th>\n",
       "      <th>m1y_250</th>\n",
       "      <th>m1y_500</th>\n",
       "      <th>m1y_750</th>\n",
       "      <th>m1y_1000</th>\n",
       "      <th>m1y_1250</th>\n",
       "      <th>m1y_1500</th>\n",
       "      <th>m1y_1750</th>\n",
       "      <th>m1y_2000</th>\n",
       "    </tr>\n",
       "  </thead>\n",
       "  <tbody>\n",
       "    <tr>\n",
       "      <th>0.00</th>\n",
       "      <td>26.770000</td>\n",
       "      <td>26.770000</td>\n",
       "      <td>26.770000</td>\n",
       "      <td>26.770000</td>\n",
       "      <td>26.770000</td>\n",
       "      <td>26.770000</td>\n",
       "      <td>26.770000</td>\n",
       "      <td>26.770000</td>\n",
       "    </tr>\n",
       "    <tr>\n",
       "      <th>0.01</th>\n",
       "      <td>26.766198</td>\n",
       "      <td>27.130300</td>\n",
       "      <td>27.247796</td>\n",
       "      <td>26.794290</td>\n",
       "      <td>26.959712</td>\n",
       "      <td>27.042568</td>\n",
       "      <td>26.880658</td>\n",
       "      <td>26.961165</td>\n",
       "    </tr>\n",
       "    <tr>\n",
       "      <th>0.02</th>\n",
       "      <td>26.516557</td>\n",
       "      <td>27.122708</td>\n",
       "      <td>27.204646</td>\n",
       "      <td>26.759402</td>\n",
       "      <td>26.868108</td>\n",
       "      <td>26.976955</td>\n",
       "      <td>27.070535</td>\n",
       "      <td>26.919149</td>\n",
       "    </tr>\n",
       "    <tr>\n",
       "      <th>0.03</th>\n",
       "      <td>26.604918</td>\n",
       "      <td>26.882406</td>\n",
       "      <td>27.375422</td>\n",
       "      <td>26.748847</td>\n",
       "      <td>26.680542</td>\n",
       "      <td>26.910511</td>\n",
       "      <td>27.107041</td>\n",
       "      <td>26.935297</td>\n",
       "    </tr>\n",
       "    <tr>\n",
       "      <th>0.04</th>\n",
       "      <td>26.615657</td>\n",
       "      <td>26.750302</td>\n",
       "      <td>27.393473</td>\n",
       "      <td>26.843478</td>\n",
       "      <td>26.574972</td>\n",
       "      <td>26.871426</td>\n",
       "      <td>27.060486</td>\n",
       "      <td>26.954827</td>\n",
       "    </tr>\n",
       "  </tbody>\n",
       "</table>\n",
       "</div>"
      ],
      "text/plain": [
       "        m1y_250    m1y_500    m1y_750   m1y_1000   m1y_1250   m1y_1500  \\\n",
       "0.00  26.770000  26.770000  26.770000  26.770000  26.770000  26.770000   \n",
       "0.01  26.766198  27.130300  27.247796  26.794290  26.959712  27.042568   \n",
       "0.02  26.516557  27.122708  27.204646  26.759402  26.868108  26.976955   \n",
       "0.03  26.604918  26.882406  27.375422  26.748847  26.680542  26.910511   \n",
       "0.04  26.615657  26.750302  27.393473  26.843478  26.574972  26.871426   \n",
       "\n",
       "       m1y_1750   m1y_2000  \n",
       "0.00  26.770000  26.770000  \n",
       "0.01  26.880658  26.961165  \n",
       "0.02  27.070535  26.919149  \n",
       "0.03  27.107041  26.935297  \n",
       "0.04  27.060486  26.954827  "
      ]
     },
     "execution_count": 59,
     "metadata": {},
     "output_type": "execute_result"
    }
   ],
   "source": [
    "m1y = pd.read_csv('/Users/georgepamfilis/Dropbox/THESIS/Διπλωματική/V1/1_moments_y.csv',index_col=0)\n",
    "m1y.head()"
   ]
  },
  {
   "cell_type": "code",
   "execution_count": 60,
   "metadata": {
    "collapsed": false,
    "deletable": true,
    "editable": true
   },
   "outputs": [
    {
     "data": {
      "text/html": [
       "<div>\n",
       "<table border=\"1\" class=\"dataframe\">\n",
       "  <thead>\n",
       "    <tr style=\"text-align: right;\">\n",
       "      <th></th>\n",
       "      <th>m2x_250</th>\n",
       "      <th>m2x_500</th>\n",
       "      <th>m2x_750</th>\n",
       "      <th>m2x_1000</th>\n",
       "      <th>m2x_1250</th>\n",
       "      <th>m2x_1500</th>\n",
       "      <th>m2x_1750</th>\n",
       "      <th>m2x_2000</th>\n",
       "    </tr>\n",
       "  </thead>\n",
       "  <tbody>\n",
       "    <tr>\n",
       "      <th>0.00</th>\n",
       "      <td>0.000000</td>\n",
       "      <td>0.000000</td>\n",
       "      <td>0.000000</td>\n",
       "      <td>0.000000</td>\n",
       "      <td>0.000000</td>\n",
       "      <td>0.000000</td>\n",
       "      <td>0.000000</td>\n",
       "      <td>0.000000</td>\n",
       "    </tr>\n",
       "    <tr>\n",
       "      <th>0.01</th>\n",
       "      <td>0.275199</td>\n",
       "      <td>0.104805</td>\n",
       "      <td>0.263203</td>\n",
       "      <td>0.137950</td>\n",
       "      <td>0.084853</td>\n",
       "      <td>0.090553</td>\n",
       "      <td>0.076933</td>\n",
       "      <td>0.060234</td>\n",
       "    </tr>\n",
       "    <tr>\n",
       "      <th>0.02</th>\n",
       "      <td>0.344721</td>\n",
       "      <td>0.137793</td>\n",
       "      <td>0.280439</td>\n",
       "      <td>0.166099</td>\n",
       "      <td>0.107569</td>\n",
       "      <td>0.117427</td>\n",
       "      <td>0.090573</td>\n",
       "      <td>0.082913</td>\n",
       "    </tr>\n",
       "    <tr>\n",
       "      <th>0.03</th>\n",
       "      <td>0.390979</td>\n",
       "      <td>0.174387</td>\n",
       "      <td>0.301543</td>\n",
       "      <td>0.205949</td>\n",
       "      <td>0.128793</td>\n",
       "      <td>0.126989</td>\n",
       "      <td>0.110906</td>\n",
       "      <td>0.113896</td>\n",
       "    </tr>\n",
       "    <tr>\n",
       "      <th>0.04</th>\n",
       "      <td>0.433185</td>\n",
       "      <td>0.210130</td>\n",
       "      <td>0.323883</td>\n",
       "      <td>0.237766</td>\n",
       "      <td>0.148559</td>\n",
       "      <td>0.151571</td>\n",
       "      <td>0.121995</td>\n",
       "      <td>0.125663</td>\n",
       "    </tr>\n",
       "  </tbody>\n",
       "</table>\n",
       "</div>"
      ],
      "text/plain": [
       "       m2x_250   m2x_500   m2x_750  m2x_1000  m2x_1250  m2x_1500  m2x_1750  \\\n",
       "0.00  0.000000  0.000000  0.000000  0.000000  0.000000  0.000000  0.000000   \n",
       "0.01  0.275199  0.104805  0.263203  0.137950  0.084853  0.090553  0.076933   \n",
       "0.02  0.344721  0.137793  0.280439  0.166099  0.107569  0.117427  0.090573   \n",
       "0.03  0.390979  0.174387  0.301543  0.205949  0.128793  0.126989  0.110906   \n",
       "0.04  0.433185  0.210130  0.323883  0.237766  0.148559  0.151571  0.121995   \n",
       "\n",
       "      m2x_2000  \n",
       "0.00  0.000000  \n",
       "0.01  0.060234  \n",
       "0.02  0.082913  \n",
       "0.03  0.113896  \n",
       "0.04  0.125663  "
      ]
     },
     "execution_count": 60,
     "metadata": {},
     "output_type": "execute_result"
    }
   ],
   "source": [
    "m2x = pd.read_csv('/Users/georgepamfilis/Dropbox/THESIS/Διπλωματική/V1/2_moments_x.csv',index_col=0)\n",
    "m2x.head()"
   ]
  },
  {
   "cell_type": "code",
   "execution_count": 61,
   "metadata": {
    "collapsed": false,
    "deletable": true,
    "editable": true
   },
   "outputs": [
    {
     "data": {
      "text/html": [
       "<div>\n",
       "<table border=\"1\" class=\"dataframe\">\n",
       "  <thead>\n",
       "    <tr style=\"text-align: right;\">\n",
       "      <th></th>\n",
       "      <th>m2y_250</th>\n",
       "      <th>m2y_500</th>\n",
       "      <th>m2y_750</th>\n",
       "      <th>m2y_1000</th>\n",
       "      <th>m2y_1250</th>\n",
       "      <th>m2y_1500</th>\n",
       "      <th>m2y_1750</th>\n",
       "      <th>m2y_2000</th>\n",
       "    </tr>\n",
       "  </thead>\n",
       "  <tbody>\n",
       "    <tr>\n",
       "      <th>0.00</th>\n",
       "      <td>0.716633</td>\n",
       "      <td>0.716633</td>\n",
       "      <td>0.716633</td>\n",
       "      <td>0.716633</td>\n",
       "      <td>0.716633</td>\n",
       "      <td>0.716633</td>\n",
       "      <td>0.716633</td>\n",
       "      <td>0.716633</td>\n",
       "    </tr>\n",
       "    <tr>\n",
       "      <th>0.01</th>\n",
       "      <td>0.837703</td>\n",
       "      <td>0.810821</td>\n",
       "      <td>0.838596</td>\n",
       "      <td>0.803745</td>\n",
       "      <td>0.789834</td>\n",
       "      <td>0.792772</td>\n",
       "      <td>0.783657</td>\n",
       "      <td>0.775734</td>\n",
       "    </tr>\n",
       "    <tr>\n",
       "      <th>0.02</th>\n",
       "      <td>0.846793</td>\n",
       "      <td>0.826509</td>\n",
       "      <td>0.841016</td>\n",
       "      <td>0.810214</td>\n",
       "      <td>0.795898</td>\n",
       "      <td>0.799053</td>\n",
       "      <td>0.797716</td>\n",
       "      <td>0.784283</td>\n",
       "    </tr>\n",
       "    <tr>\n",
       "      <th>0.03</th>\n",
       "      <td>0.862635</td>\n",
       "      <td>0.826217</td>\n",
       "      <td>0.857591</td>\n",
       "      <td>0.817836</td>\n",
       "      <td>0.795482</td>\n",
       "      <td>0.795824</td>\n",
       "      <td>0.807227</td>\n",
       "      <td>0.796413</td>\n",
       "    </tr>\n",
       "    <tr>\n",
       "      <th>0.04</th>\n",
       "      <td>0.863464</td>\n",
       "      <td>0.825186</td>\n",
       "      <td>0.861839</td>\n",
       "      <td>0.827543</td>\n",
       "      <td>0.796445</td>\n",
       "      <td>0.799926</td>\n",
       "      <td>0.808887</td>\n",
       "      <td>0.802910</td>\n",
       "    </tr>\n",
       "  </tbody>\n",
       "</table>\n",
       "</div>"
      ],
      "text/plain": [
       "       m2y_250   m2y_500   m2y_750  m2y_1000  m2y_1250  m2y_1500  m2y_1750  \\\n",
       "0.00  0.716633  0.716633  0.716633  0.716633  0.716633  0.716633  0.716633   \n",
       "0.01  0.837703  0.810821  0.838596  0.803745  0.789834  0.792772  0.783657   \n",
       "0.02  0.846793  0.826509  0.841016  0.810214  0.795898  0.799053  0.797716   \n",
       "0.03  0.862635  0.826217  0.857591  0.817836  0.795482  0.795824  0.807227   \n",
       "0.04  0.863464  0.825186  0.861839  0.827543  0.796445  0.799926  0.808887   \n",
       "\n",
       "      m2y_2000  \n",
       "0.00  0.716633  \n",
       "0.01  0.775734  \n",
       "0.02  0.784283  \n",
       "0.03  0.796413  \n",
       "0.04  0.802910  "
      ]
     },
     "execution_count": 61,
     "metadata": {},
     "output_type": "execute_result"
    }
   ],
   "source": [
    "m2y = pd.read_csv('/Users/georgepamfilis/Dropbox/THESIS/Διπλωματική/V1/2_moments_y.csv',index_col=0)\n",
    "m2y.head()"
   ]
  },
  {
   "cell_type": "code",
   "execution_count": 145,
   "metadata": {
    "collapsed": true
   },
   "outputs": [],
   "source": [
    "se = [1, 100]"
   ]
  },
  {
   "cell_type": "code",
   "execution_count": 133,
   "metadata": {
    "collapsed": false
   },
   "outputs": [
    {
     "name": "stdout",
     "output_type": "stream",
     "text": [
      "250\n",
      "500\n",
      "750\n",
      "1000\n",
      "1250\n",
      "1500\n",
      "1750\n",
      "2000\n"
     ]
    }
   ],
   "source": [
    "folder = '/Users/georgepamfilis/Dropbox/THESIS/comsol_project/DATA/micromodel/geomentry_v0/seed_1'\n",
    "\n",
    "files = [\"/xy_250.txt\", \n",
    "         \"/xy_500.txt\",\n",
    "         \"/xy_750.txt\",\n",
    "         \"/xy_1000.txt\",\n",
    "         \"/xy_1250.txt\",\n",
    "         \"/xy_1500.txt\",\n",
    "         \"/xy_1750.txt\",\n",
    "         \"/xy_2000.txt\"]\n",
    "\n",
    "for f in files:\n",
    "    print f.split('_')[1].split('.')[0]\n",
    "d =[int(f.split('_')[1].split('.')[0]) for f in files]\n",
    "files_ = [folder + f for f in files]\n"
   ]
  },
  {
   "cell_type": "code",
   "execution_count": 134,
   "metadata": {
    "collapsed": true
   },
   "outputs": [],
   "source": [
    "time = np.arange(0,4,1/100.)"
   ]
  },
  {
   "cell_type": "code",
   "execution_count": 135,
   "metadata": {
    "collapsed": false
   },
   "outputs": [],
   "source": [
    "sx2 = []\n",
    "for f in range(len(files_)):\n",
    "    par = particles.Particles(files_[f], dimension=2, time_start=0, time_end=4, time_step=100)\n",
    "    x = par.qx[par.qx<.1]\n",
    "    sx = []\n",
    "    for t in range(x.shape[1]):\n",
    "        a = x[t]\n",
    "        a = a.dropna()\n",
    "        sx.append((np.sum(a**2)/a.shape[0]) - (np.sum(a**1)/a.shape[0])**2)\n",
    "    sx2.append(sx)"
   ]
  },
  {
   "cell_type": "code",
   "execution_count": 136,
   "metadata": {
    "collapsed": false
   },
   "outputs": [
    {
     "data": {
      "text/plain": [
       "[<matplotlib.lines.Line2D at 0x1126d93d0>]"
      ]
     },
     "execution_count": 136,
     "metadata": {},
     "output_type": "execute_result"
    },
    {
     "data": {
      "image/png": "[encoded data removed]",
      "text/plain": [
       "<matplotlib.figure.Figure at 0x111e9ef10>"
      ]
     },
     "metadata": {},
     "output_type": "display_data"
    }
   ],
   "source": [
    "l,h = 25,200\n",
    "plt.plot(time[l:h],sx2[5][l:h])"
   ]
  },
  {
   "cell_type": "code",
   "execution_count": 139,
   "metadata": {
    "collapsed": false
   },
   "outputs": [],
   "source": [
    "dmx = []\n",
    "for i in range(len(sx2)):\n",
    "    s = sx2[i][l:h]\n",
    "    slope, intercept, r_value, p_value, std_err = stats.linregress(time[l:h],s)\n",
    "    #print(r_value**2, intercept)\n",
    "    dmx.append(slope/2)"
   ]
  },
  {
   "cell_type": "code",
   "execution_count": 140,
   "metadata": {
    "collapsed": false
   },
   "outputs": [
    {
     "data": {
      "text/plain": [
       "[<matplotlib.lines.Line2D at 0x11273da50>]"
      ]
     },
     "execution_count": 140,
     "metadata": {},
     "output_type": "execute_result"
    },
    {
     "data": {
      "image/png": "[encoded data removed]",
      "text/plain": [
       "<matplotlib.figure.Figure at 0x111eab150>"
      ]
     },
     "metadata": {},
     "output_type": "display_data"
    }
   ],
   "source": [
    "plt.plot(d, dmx)"
   ]
  },
  {
   "cell_type": "raw",
   "metadata": {},
   "source": [
    "g = [dmx]"
   ]
  },
  {
   "cell_type": "code",
   "execution_count": 141,
   "metadata": {
    "collapsed": false
   },
   "outputs": [],
   "source": [
    "sy2 = []\n",
    "for f in range(len(files_)):\n",
    "    par = particles.Particles(files_[f], dimension=2, time_start=0, time_end=4, time_step=100)\n",
    "    y = par.qy[par.qy<.1]\n",
    "    sy = []\n",
    "    for t in range(y.shape[1]):\n",
    "        a = y[t]\n",
    "        a = a.dropna()\n",
    "        sy.append((np.sum(a**2)/a.shape[0]) - (np.sum(a**1)/a.shape[0])**2)\n",
    "    sy2.append(sy)"
   ]
  },
  {
   "cell_type": "code",
   "execution_count": 142,
   "metadata": {
    "collapsed": false
   },
   "outputs": [],
   "source": [
    "dmy = []\n",
    "for i in range(len(sy2)):\n",
    "    s = sy2[i][l:h]\n",
    "    slope, intercept, r_value, p_value, std_err = stats.linregress(time[l:h],s)\n",
    "    #print(r_value**2, intercept)\n",
    "    dmy.append(slope/2)"
   ]
  },
  {
   "cell_type": "code",
   "execution_count": 143,
   "metadata": {
    "collapsed": false
   },
   "outputs": [
    {
     "data": {
      "text/plain": [
       "[<matplotlib.lines.Line2D at 0x1113c18d0>]"
      ]
     },
     "execution_count": 143,
     "metadata": {},
     "output_type": "execute_result"
    },
    {
     "data": {
      "image/png": "[encoded data removed]",
      "text/plain": [
       "<matplotlib.figure.Figure at 0x111eb2610>"
      ]
     },
     "metadata": {},
     "output_type": "display_data"
    }
   ],
   "source": [
    "plt.plot(d,dmy)"
   ]
  },
  {
   "cell_type": "code",
   "execution_count": null,
   "metadata": {
    "collapsed": true
   },
   "outputs": [],
   "source": []
  },
  {
   "cell_type": "code",
   "execution_count": null,
   "metadata": {
    "collapsed": true
   },
   "outputs": [],
   "source": []
  },
  {
   "cell_type": "code",
   "execution_count": null,
   "metadata": {
    "collapsed": true
   },
   "outputs": [],
   "source": []
  },
  {
   "cell_type": "code",
   "execution_count": null,
   "metadata": {
    "collapsed": true
   },
   "outputs": [],
   "source": []
  },
  {
   "cell_type": "code",
   "execution_count": null,
   "metadata": {
    "collapsed": true
   },
   "outputs": [],
   "source": []
  },
  {
   "cell_type": "code",
   "execution_count": null,
   "metadata": {
    "collapsed": true
   },
   "outputs": [],
   "source": []
  },
  {
   "cell_type": "code",
   "execution_count": null,
   "metadata": {
    "collapsed": true
   },
   "outputs": [],
   "source": []
  },
  {
   "cell_type": "code",
   "execution_count": null,
   "metadata": {
    "collapsed": true
   },
   "outputs": [],
   "source": []
  },
  {
   "cell_type": "code",
   "execution_count": null,
   "metadata": {
    "collapsed": true
   },
   "outputs": [],
   "source": []
  },
  {
   "cell_type": "code",
   "execution_count": null,
   "metadata": {
    "collapsed": true
   },
   "outputs": [],
   "source": []
  },
  {
   "cell_type": "code",
   "execution_count": null,
   "metadata": {
    "collapsed": true
   },
   "outputs": [],
   "source": []
  },
  {
   "cell_type": "code",
   "execution_count": null,
   "metadata": {
    "collapsed": true
   },
   "outputs": [],
   "source": []
  },
  {
   "cell_type": "raw",
   "metadata": {},
   "source": [
    "import numpy as np; np.random.seed(22)\n",
    "import seaborn as sns; sns.set(color_codes=True)\n",
    "x = np.linspace(0, 15, 31)\n",
    "data = np.sin(x) + np.random.rand(10, 31) + np.random.randn(10, 1)\n",
    "ax = sns.tsplot(data=data)"
   ]
  },
  {
   "cell_type": "code",
   "execution_count": null,
   "metadata": {
    "collapsed": false
   },
   "outputs": [],
   "source": []
  },
  {
   "cell_type": "code",
   "execution_count": null,
   "metadata": {
    "collapsed": true
   },
   "outputs": [],
   "source": []
  },
  {
   "cell_type": "code",
   "execution_count": null,
   "metadata": {
    "collapsed": true
   },
   "outputs": [],
   "source": []
  },
  {
   "cell_type": "code",
   "execution_count": null,
   "metadata": {
    "collapsed": true
   },
   "outputs": [],
   "source": []
  },
  {
   "cell_type": "code",
   "execution_count": null,
   "metadata": {
    "collapsed": true
   },
   "outputs": [],
   "source": []
  },
  {
   "cell_type": "code",
   "execution_count": null,
   "metadata": {
    "collapsed": true
   },
   "outputs": [],
   "source": []
  },
  {
   "cell_type": "code",
   "execution_count": null,
   "metadata": {
    "collapsed": true
   },
   "outputs": [],
   "source": []
  },
  {
   "cell_type": "code",
   "execution_count": null,
   "metadata": {
    "collapsed": true
   },
   "outputs": [],
   "source": []
  },
  {
   "cell_type": "code",
   "execution_count": null,
   "metadata": {
    "collapsed": true
   },
   "outputs": [],
   "source": []
  },
  {
   "cell_type": "code",
   "execution_count": null,
   "metadata": {
    "collapsed": true
   },
   "outputs": [],
   "source": []
  },
  {
   "cell_type": "code",
   "execution_count": null,
   "metadata": {
    "collapsed": true
   },
   "outputs": [],
   "source": []
  },
  {
   "cell_type": "code",
   "execution_count": null,
   "metadata": {
    "collapsed": true
   },
   "outputs": [],
   "source": []
  },
  {
   "cell_type": "raw",
   "metadata": {},
   "source": [
    "plt.plot(d,dmx)for i in range(m2x.shape[1]):\n",
    "    sx = (m2x[m2x.columns[i]]/1000) - (m1x[m1x.columns[i]]/1000)**2\n",
    "    sx.iloc[:].plot()"
   ]
  },
  {
   "cell_type": "raw",
   "metadata": {},
   "source": [
    "for i in range(m2y.shape[1]):\n",
    "    sy = (m2y[m2y.columns[i]]/1000) - (m1y[m1y.columns[i]]/1000)**2\n",
    "    sy.iloc[:].plot()"
   ]
  },
  {
   "cell_type": "code",
   "execution_count": null,
   "metadata": {
    "collapsed": true
   },
   "outputs": [],
   "source": []
  },
  {
   "cell_type": "raw",
   "metadata": {
    "deletable": true,
    "editable": true
   },
   "source": []
  },
  {
   "cell_type": "raw",
   "metadata": {
    "deletable": true,
    "editable": true
   },
   "source": [
    "for di in files:\n",
    "    ma = moving_average(m2y[di].values[:8], n=30)\n",
    "    t = time[:ma.shape[0]]\n",
    "    plt.plot(t,ma, label=di)\n",
    "plt.title('M2y-normalized-averaged versus time', fontsize=30)\n",
    "plt.ylabel(r\"$M_{2,y}$ [mm]\", fontsize=26)\n",
    "plt.xlabel(\"time [min]\", fontsize=26)\n",
    "plt.grid()\n",
    "plt.legend(fontsize=20)\n",
    "plt.savefig('./images/M2y-normalized-averaged')"
   ]
  },
  {
   "cell_type": "markdown",
   "metadata": {
    "deletable": true,
    "editable": true
   },
   "source": [
    "# SPATIAL VARIANCE"
   ]
  },
  {
   "cell_type": "markdown",
   "metadata": {
    "deletable": true,
    "editable": true
   },
   "source": [
    "$${σ_x}^2= \\frac{{m_2}}{{m_0}} -μ^2  ---where--- (μ = \\frac{{m_1}}{{m_0}})$$"
   ]
  },
  {
   "cell_type": "raw",
   "metadata": {
    "collapsed": false,
    "deletable": true,
    "editable": true
   },
   "source": [
    "m2x"
   ]
  },
  {
   "cell_type": "code",
   "execution_count": null,
   "metadata": {
    "collapsed": false,
    "deletable": true,
    "editable": true
   },
   "outputs": [],
   "source": []
  },
  {
   "cell_type": "raw",
   "metadata": {
    "collapsed": false,
    "deletable": true,
    "editable": true
   },
   "source": [
    "sx2 = m2x - m1x**2\n",
    "sy2 = m2y - m1y**2"
   ]
  },
  {
   "cell_type": "raw",
   "metadata": {
    "collapsed": false,
    "deletable": true,
    "editable": true
   },
   "source": [
    "max_2 = 7#np.where(p.time==1000)[0][0]\n",
    "print(max_2)"
   ]
  },
  {
   "cell_type": "markdown",
   "metadata": {
    "deletable": true,
    "editable": true
   },
   "source": [
    "### x-direction"
   ]
  },
  {
   "cell_type": "raw",
   "metadata": {
    "collapsed": false,
    "deletable": true,
    "editable": true
   },
   "source": [
    "sx2.iloc[:max_2].plot()\n",
    "plt.ylabel(r\"${s_x}^2 [m^2]$\")\n",
    "plt.xlabel(\"time [min]\")\n",
    "plt.grid()\n",
    "plt.legend(fontsize=20)"
   ]
  },
  {
   "cell_type": "markdown",
   "metadata": {
    "deletable": true,
    "editable": true
   },
   "source": [
    "### y-direction"
   ]
  },
  {
   "cell_type": "raw",
   "metadata": {
    "collapsed": false,
    "deletable": true,
    "editable": true
   },
   "source": [
    "sy2.iloc[:max_2-10].plot()\n",
    "plt.ylabel(r\"${s_y}^2 [m^2]$\")\n",
    "plt.xlabel(\"time [min]\")\n",
    "plt.grid()\n",
    "plt.legend(fontsize=20)"
   ]
  },
  {
   "cell_type": "markdown",
   "metadata": {
    "deletable": true,
    "editable": true
   },
   "source": [
    "### y-direction with moving average"
   ]
  },
  {
   "cell_type": "raw",
   "metadata": {
    "collapsed": false,
    "deletable": true,
    "editable": true
   },
   "source": [
    "for di in files:\n",
    "    ma = moving_average(sy2[di].values[:max_-10], n=30)\n",
    "    t = p.time[:ma.shape[0]]\n",
    "    plt.plot(t,ma)"
   ]
  },
  {
   "cell_type": "markdown",
   "metadata": {
    "deletable": true,
    "editable": true
   },
   "source": [
    "# computing diffusion coeficient"
   ]
  },
  {
   "cell_type": "markdown",
   "metadata": {
    "deletable": true,
    "editable": true
   },
   "source": [
    "${s_x}^2 = 2{D_m}_xt$"
   ]
  },
  {
   "cell_type": "markdown",
   "metadata": {
    "deletable": true,
    "editable": true
   },
   "source": [
    "### x-direction"
   ]
  },
  {
   "cell_type": "raw",
   "metadata": {
    "collapsed": false,
    "deletable": true,
    "editable": true
   },
   "source": [
    "dmx = []\n",
    "for di in sx2.columns:\n",
    "    data = sx2[di].iloc[:max_2]\n",
    "    slope, intercept, r_value, p_value, std_err = stats.linregress(data.index[:300],data.values[:300])\n",
    "    print(\"The R^2 value for the diameter {1} [nm] is: {0}. The intersept is: {2}\".format(r_value**2,di.split(\"_\")[-2], intercept))\n",
    "    dmx.append(slope/2)\n",
    "\n",
    "plt.plot(d,dmx)\n",
    "plt.ylabel(r\"${D_m}_x [{mm^2}/min]$\")\n",
    "plt.xlabel(r\"$ d_p [nm]$\")"
   ]
  },
  {
   "cell_type": "raw",
   "metadata": {
    "deletable": true,
    "editable": true
   },
   "source": [
    "### y-direction"
   ]
  },
  {
   "cell_type": "markdown",
   "metadata": {
    "deletable": true,
    "editable": true
   },
   "source": [
    "${s_y}^2 = 2{D_m}_yt$"
   ]
  },
  {
   "cell_type": "raw",
   "metadata": {
    "collapsed": false,
    "deletable": true,
    "editable": true
   },
   "source": [
    "dmy = []\n",
    "for di in sy2.columns:\n",
    "    data = sy2[di].iloc[:max_2]\n",
    "    slope, intercept, r_value, p_value, std_err = stats.linregress(data.index[:300],data.values[:300])\n",
    "    print(\"The R^2 value for the diameter {1} [nm] is: {0}\".format(r_value**2,di.split(\"_\")[-2]),intercept)\n",
    "    dmy.append(slope/2)\n",
    "\n",
    "# slope, intercept, r_value, p_value, std_err = stats.linregress(d,dmy)\n",
    "# print(r_value)\n",
    "plt.plot(d,dmy)\n",
    "plt.ylabel(r\"${D_m}_y [{mm^2}/min]$\")\n",
    "plt.xlabel(r\"$ d_p [nm]$\")"
   ]
  },
  {
   "cell_type": "markdown",
   "metadata": {
    "deletable": true,
    "editable": true
   },
   "source": [
    "### y- direction with moving average"
   ]
  },
  {
   "cell_type": "raw",
   "metadata": {
    "collapsed": false,
    "deletable": true,
    "editable": true
   },
   "source": [
    "dmyma = []\n",
    "for di in sy2.columns:\n",
    "    data = sy2[di].iloc[:max_2]\n",
    "    ma = moving_average(data.values, n=30)\n",
    "    print(ma.shape)\n",
    "    print(data.shape)\n",
    "    slope, intercept, r_value, p_value, std_err = stats.linregress(data.index[:ma.shape[0]],ma[:300])\n",
    "    print(\"The R^2 value for the diameter {1} [nm] is: {0}\".format(r_value**2,di.split(\"_\")[-2]),intercept)\n",
    "    dmyma.append(slope/2)\n",
    "plt.plot(d,dmyma)\n",
    "plt.ylabel(r\"${D_m}_y [{mm^2}/min]$\")\n",
    "plt.xlabel(r\"$ d_p [nm]$\")"
   ]
  },
  {
   "cell_type": "markdown",
   "metadata": {
    "deletable": true,
    "editable": true
   },
   "source": [
    "# Dispersivity"
   ]
  },
  {
   "cell_type": "markdown",
   "metadata": {
    "deletable": true,
    "editable": true
   },
   "source": [
    "### x-direction"
   ]
  },
  {
   "cell_type": "raw",
   "metadata": {
    "collapsed": false,
    "deletable": true,
    "editable": true
   },
   "source": [
    "v_av =  0.0000001 # m/s still needs to be checked"
   ]
  },
  {
   "cell_type": "raw",
   "metadata": {
    "collapsed": false,
    "deletable": true,
    "editable": true
   },
   "source": [
    "a_x = []\n",
    "for di in dmx:\n",
    "    a_x.append(di/v_ave)\n",
    "\n",
    "plt.plot(d,a_x)\n",
    "plt.ylabel(r\"$a_x [mm]$\")\n",
    "plt.xlabel(r\"$ d_p [nm]$\")"
   ]
  },
  {
   "cell_type": "raw",
   "metadata": {
    "deletable": true,
    "editable": true
   },
   "source": [
    "as we can see the value of the dispersivity parameter grows as we increase the particle diameter."
   ]
  },
  {
   "cell_type": "markdown",
   "metadata": {
    "deletable": true,
    "editable": true
   },
   "source": [
    "### y-direction"
   ]
  },
  {
   "cell_type": "raw",
   "metadata": {
    "collapsed": false,
    "deletable": true,
    "editable": true
   },
   "source": [
    "a_y = []\n",
    "for di in dmy:\n",
    "    a_y.append(di/v_ave)\n",
    "plt.plot(d,a_y)\n",
    "plt.ylabel(r\"$a_y [mm]$\")\n",
    "plt.xlabel(r\"$ d_p [nm]$\")"
   ]
  },
  {
   "cell_type": "markdown",
   "metadata": {
    "deletable": true,
    "editable": true
   },
   "source": [
    "### y- direction with moving average"
   ]
  },
  {
   "cell_type": "raw",
   "metadata": {
    "collapsed": false,
    "deletable": true,
    "editable": true
   },
   "source": [
    "a_yma = []\n",
    "for di in dmyma:\n",
    "    a_yma.append(di/v_ave)\n",
    "plt.plot(d,a_yma)\n",
    "plt.ylabel(r\"$a_y [mm]$\")\n",
    "plt.xlabel(r\"$ d_p [nm]$\")"
   ]
  },
  {
   "cell_type": "code",
   "execution_count": null,
   "metadata": {
    "collapsed": true,
    "deletable": true,
    "editable": true
   },
   "outputs": [],
   "source": []
  }
 ],
 "metadata": {
  "kernelspec": {
   "display_name": "Python 2",
   "language": "python",
   "name": "python2"
  },
  "language_info": {
   "codemirror_mode": {
    "name": "ipython",
    "version": 2
   },
   "file_extension": ".py",
   "mimetype": "text/x-python",
   "name": "python",
   "nbconvert_exporter": "python",
   "pygments_lexer": "ipython2",
   "version": "2.7.5"
  }
 },
 "nbformat": 4,
 "nbformat_minor": 0
}
