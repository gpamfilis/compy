{
 "cells": [
  {
   "cell_type": "markdown",
   "metadata": {
    "deletable": true,
    "editable": true
   },
   "source": [
    "### The simulation was run with only one seed for the random generator."
   ]
  },
  {
   "cell_type": "code",
   "execution_count": 1,
   "metadata": {
    "collapsed": true,
    "deletable": true,
    "editable": true
   },
   "outputs": [],
   "source": [
    "import pandas as pd\n",
    "import numpy as np\n",
    "import matplotlib.pyplot as plt\n",
    "import seaborn as sns\n",
    "import scipy\n",
    "from scipy import stats\n",
    "import particles\n",
    "\n",
    "%matplotlib inline\n",
    "sns.set(style=\"ticks\")\n",
    "plt.rcParams['figure.figsize'] = (20, 16)\n",
    "plt.rcParams['xtick.labelsize'] = 'x-large'\n",
    "plt.rcParams['ytick.labelsize'] = 'x-large'"
   ]
  },
  {
   "cell_type": "raw",
   "metadata": {},
   "source": [
    "data_direction = '/Users/georgepamfilis/Dropbox/THESIS/comsol_project/DATA/micromodel/data/m0/'"
   ]
  },
  {
   "cell_type": "raw",
   "metadata": {},
   "source": [
    "import os"
   ]
  },
  {
   "cell_type": "raw",
   "metadata": {},
   "source": [
    "files = [data_direction+f for f in os.listdir(data_direction)]\n",
    "files"
   ]
  },
  {
   "cell_type": "raw",
   "metadata": {},
   "source": [
    "diameters = [d.split('/')[-1].split('_')[1].split('.')[0] for d in files]\n",
    "diameters"
   ]
  },
  {
   "cell_type": "code",
   "execution_count": null,
   "metadata": {
    "collapsed": true
   },
   "outputs": [],
   "source": []
  },
  {
   "cell_type": "code",
   "execution_count": null,
   "metadata": {
    "collapsed": true
   },
   "outputs": [],
   "source": []
  },
  {
   "cell_type": "code",
   "execution_count": null,
   "metadata": {
    "collapsed": true
   },
   "outputs": [],
   "source": []
  },
  {
   "cell_type": "code",
   "execution_count": null,
   "metadata": {
    "collapsed": true
   },
   "outputs": [],
   "source": []
  },
  {
   "cell_type": "code",
   "execution_count": null,
   "metadata": {
    "collapsed": true
   },
   "outputs": [],
   "source": []
  },
  {
   "cell_type": "code",
   "execution_count": null,
   "metadata": {
    "collapsed": true
   },
   "outputs": [],
   "source": []
  },
  {
   "cell_type": "code",
   "execution_count": null,
   "metadata": {
    "collapsed": true,
    "deletable": true,
    "editable": true
   },
   "outputs": [],
   "source": [
    "folder = '/Users/georgepamfilis/Dropbox/THESIS/comsol_project/DATA/micromodel/geomentry_v0/seed_1'"
   ]
  },
  {
   "cell_type": "code",
   "execution_count": null,
   "metadata": {
    "collapsed": false,
    "deletable": true,
    "editable": true
   },
   "outputs": [],
   "source": [
    "files = [\"/xy_250.txt\", \n",
    "         \"/xy_500.txt\",\n",
    "         \"/xy_750.txt\",\n",
    "         \"/xy_1000.txt\",\n",
    "         \"/xy_1250.txt\",\n",
    "         \"/xy_1500.txt\",\n",
    "         \"/xy_1750.txt\",\n",
    "         \"/xy_2000.txt\"]"
   ]
  },
  {
   "cell_type": "markdown",
   "metadata": {
    "deletable": true,
    "editable": true
   },
   "source": [
    "\n",
    "### the end of the media"
   ]
  },
  {
   "cell_type": "code",
   "execution_count": null,
   "metadata": {
    "collapsed": true,
    "deletable": true,
    "editable": true
   },
   "outputs": [],
   "source": [
    "L = .1 #mm"
   ]
  },
  {
   "cell_type": "markdown",
   "metadata": {
    "collapsed": true,
    "deletable": true,
    "editable": true
   },
   "source": [
    "### particle diameter range [nm]"
   ]
  },
  {
   "cell_type": "code",
   "execution_count": null,
   "metadata": {
    "collapsed": false,
    "deletable": true,
    "editable": true
   },
   "outputs": [],
   "source": [
    "for f in files:\n",
    "    print f.split('_')[1].split('.')[0]"
   ]
  },
  {
   "cell_type": "code",
   "execution_count": null,
   "metadata": {
    "collapsed": false,
    "deletable": true,
    "editable": true
   },
   "outputs": [],
   "source": [
    "d =[int(f.split('_')[1].split('.')[0]) for f in files]"
   ]
  },
  {
   "cell_type": "code",
   "execution_count": null,
   "metadata": {
    "collapsed": false,
    "deletable": true,
    "editable": true
   },
   "outputs": [],
   "source": [
    "files_ = [folder + f for f in files]"
   ]
  },
  {
   "cell_type": "code",
   "execution_count": null,
   "metadata": {
    "collapsed": false,
    "deletable": true,
    "editable": true
   },
   "outputs": [],
   "source": [
    "def zero_moment(pos):\n",
    "    m0 = []\n",
    "    for i in range(pos.shape[1]):\n",
    "        x_data = par.qx[i]\n",
    "        particles_in_media = ((x_data>=0) & (x_data !=np.nan) & (x_data<.1)).sum()\n",
    "        m0.append(particles_in_media)\n",
    "    return m0"
   ]
  },
  {
   "cell_type": "code",
   "execution_count": null,
   "metadata": {
    "collapsed": true,
    "deletable": true,
    "editable": true
   },
   "outputs": [],
   "source": [
    "time = np.arange(0,4+1/500.,1/500.)"
   ]
  },
  {
   "cell_type": "raw",
   "metadata": {
    "deletable": true,
    "editable": true
   },
   "source": [
    "par = particles.Particles(files_[0], dimension=2, time_start=0, time_end=4, time_step=500)\n"
   ]
  },
  {
   "cell_type": "code",
   "execution_count": null,
   "metadata": {
    "collapsed": false,
    "deletable": true,
    "editable": true
   },
   "outputs": [],
   "source": [
    "for f in range(len(files))[:]:\n",
    "    print(files_[f])\n",
    "    par = particles.Particles(files_[f], dimension=2, time_start=0, time_end=4, time_step=500)\n",
    "    m0 = zero_moment(par.qx)\n",
    "    plt.plot(time, m0, label='dp: '+str(d[f])+' [nm]')\n",
    "plt.xlabel('Time [min]')\n",
    "plt.ylabel('M0 [-]')\n",
    "plt.title('Zero Moment Plots')\n",
    "plt.legend()"
   ]
  },
  {
   "cell_type": "code",
   "execution_count": null,
   "metadata": {
    "collapsed": false,
    "deletable": true,
    "editable": true
   },
   "outputs": [],
   "source": [
    "plt.savefig('/Users/georgepamfilis/Dropbox/THESIS/Διπλωματική/V1/0_mom.png')"
   ]
  },
  {
   "cell_type": "raw",
   "metadata": {
    "collapsed": false,
    "deletable": true,
    "editable": true
   },
   "source": [
    "t = 1\n",
    "x = par.qx[par.qx<.1]\n",
    "y = par.qy[par.qx<.1]\n",
    "plt.scatter(x[t], y[t])"
   ]
  },
  {
   "cell_type": "code",
   "execution_count": null,
   "metadata": {
    "collapsed": true,
    "deletable": true,
    "editable": true
   },
   "outputs": [],
   "source": []
  },
  {
   "cell_type": "code",
   "execution_count": null,
   "metadata": {
    "collapsed": true,
    "deletable": true,
    "editable": true
   },
   "outputs": [],
   "source": []
  },
  {
   "cell_type": "raw",
   "metadata": {
    "collapsed": false,
    "deletable": true,
    "editable": true
   },
   "source": [
    "spmo.mom(nth_order=1,position=par.qx,time=par.time,)"
   ]
  },
  {
   "cell_type": "raw",
   "metadata": {
    "collapsed": false,
    "deletable": true,
    "editable": true
   },
   "source": [
    "time, mom1x, mom1y,mom2x, mom2y = spmo.sample_compute_moments(files_[:1], dimension=2, time_start=0, time_end=4, time_step=100, verbose=True, slice_l=.1)"
   ]
  },
  {
   "cell_type": "raw",
   "metadata": {
    "collapsed": false,
    "deletable": true,
    "editable": true
   },
   "source": [
    "mom1x"
   ]
  },
  {
   "cell_type": "code",
   "execution_count": null,
   "metadata": {
    "collapsed": true,
    "deletable": true,
    "editable": true
   },
   "outputs": [],
   "source": []
  },
  {
   "cell_type": "code",
   "execution_count": null,
   "metadata": {
    "collapsed": true,
    "deletable": true,
    "editable": true
   },
   "outputs": [],
   "source": []
  },
  {
   "cell_type": "code",
   "execution_count": null,
   "metadata": {
    "collapsed": true,
    "deletable": true,
    "editable": true
   },
   "outputs": [],
   "source": []
  },
  {
   "cell_type": "raw",
   "metadata": {
    "deletable": true,
    "editable": true
   },
   "source": [
    "sns.jointplot(p.qx[3], p.qy[3], kind=\"hex\", stat_func=None, color=\"#4CB391\")\n",
    "# plt.ylabel('Y-coordinate')"
   ]
  },
  {
   "cell_type": "markdown",
   "metadata": {
    "deletable": true,
    "editable": true
   },
   "source": [
    "# plot particle velocity ratio. $\\frac{\\hat{V}_{plume}}{\\hat{V}_{fluid}}$"
   ]
  },
  {
   "cell_type": "markdown",
   "metadata": {
    "deletable": true,
    "editable": true
   },
   "source": [
    "### the plume velocity ratio is computed by finding the slope of the first normalized spatial moment versus time."
   ]
  },
  {
   "cell_type": "code",
   "execution_count": null,
   "metadata": {
    "collapsed": false,
    "deletable": true,
    "editable": true
   },
   "outputs": [],
   "source": []
  },
  {
   "cell_type": "raw",
   "metadata": {
    "collapsed": false,
    "deletable": true,
    "editable": true
   },
   "source": [
    "Graphs().first_moment_shading(mom1x, files, time,time_limit=9,lower_limit=2,upper_limit=5, legend_font_size=20)"
   ]
  },
  {
   "cell_type": "markdown",
   "metadata": {
    "deletable": true,
    "editable": true
   },
   "source": [
    "### the shaded area represents the values for which the slope (plume_velocity) was calculated."
   ]
  },
  {
   "cell_type": "raw",
   "metadata": {
    "collapsed": false,
    "deletable": true,
    "editable": true
   },
   "source": [
    "v_ratio, line = Graphs().plume_velocity_ratio(time, dp_particle_diam=d,mom1x=mom1x,v_ave=0.000001, min_index=2, max_index=5)"
   ]
  },
  {
   "cell_type": "raw",
   "metadata": {
    "deletable": true,
    "editable": true
   },
   "source": [
    "### As $d_p$ increases the velocity ratio decreases $\\frac{\\hat{V}_{plume}}{\\hat{V}_{fluid}}$. where ${\\hat{V}_{fluid}}$ is the average velocity at the inlet where the particles are released."
   ]
  },
  {
   "cell_type": "markdown",
   "metadata": {
    "deletable": true,
    "editable": true
   },
   "source": [
    "# Moments Order 1"
   ]
  },
  {
   "cell_type": "markdown",
   "metadata": {
    "deletable": true,
    "editable": true
   },
   "source": [
    "### x-direction"
   ]
  },
  {
   "cell_type": "raw",
   "metadata": {
    "collapsed": false,
    "deletable": true,
    "editable": true
   },
   "source": [
    "max_ = np.where(time==900)[0][0]\n",
    "print(max_)"
   ]
  },
  {
   "cell_type": "markdown",
   "metadata": {
    "deletable": true,
    "editable": true
   },
   "source": [
    "### x-direction"
   ]
  },
  {
   "cell_type": "raw",
   "metadata": {
    "collapsed": false,
    "deletable": true,
    "editable": true
   },
   "source": [
    "m1x=pd.DataFrame(mom1x[:]).T\n",
    "m1x.columns = files\n",
    "m1x.index = time\n",
    "m1x.iloc[:8].plot()\n",
    "# m1x[m1x.loc[:,:]<100].plot()\n",
    "plt.title('M1x-normalized versus time', fontsize=30)\n",
    "plt.ylabel(r\"$M_{1,x}$ [mm]\", fontsize=26)\n",
    "plt.xlabel(\"time [min]\", fontsize=26)\n",
    "plt.grid()\n",
    "plt.legend(fontsize=20)\n",
    "# plt.axvline(time[10])\n",
    "# plt.axvline(time[55])\n",
    "# plt.fill_between(time, 0, 100, where=(time >= time[10]) & (time <= time[55]), facecolor='green', alpha=0.5)\n",
    "plt.savefig('./images/M1x-normalized')"
   ]
  },
  {
   "cell_type": "markdown",
   "metadata": {
    "deletable": true,
    "editable": true
   },
   "source": [
    "### y-direction"
   ]
  },
  {
   "cell_type": "raw",
   "metadata": {
    "collapsed": false,
    "deletable": true,
    "editable": true
   },
   "source": [
    "m1y=pd.DataFrame(mom1y[:]).T\n",
    "m1y.columns = files\n",
    "m1y.index = time\n",
    "m1y.iloc[:8].plot()\n",
    "plt.title('M1y-normalized versus time', fontsize=30)\n",
    "plt.ylabel(r\"$M_{1,y}$ [mm]\", fontsize=26)\n",
    "plt.xlabel(\"time [min]\", fontsize=26)\n",
    "plt.grid()\n",
    "plt.legend(fontsize=20)\n",
    "plt.savefig('./images/M1y-normalized')"
   ]
  },
  {
   "cell_type": "raw",
   "metadata": {
    "deletable": true,
    "editable": true
   },
   "source": [
    "# Moments Order 2"
   ]
  },
  {
   "cell_type": "markdown",
   "metadata": {
    "deletable": true,
    "editable": true
   },
   "source": [
    "### x-direction"
   ]
  },
  {
   "cell_type": "raw",
   "metadata": {
    "collapsed": false,
    "deletable": true,
    "editable": true
   },
   "source": [
    "m2x=pd.DataFrame(mom2x[:]).T\n",
    "m2x.columns = files\n",
    "m2x.index = time\n",
    "m2x.iloc[:8].plot()\n",
    "plt.title('M2x-normalized versus time', fontsize=30)\n",
    "plt.ylabel(r\"$M_{2,x}$ [mm]\", fontsize=26)\n",
    "plt.xlabel(\"time [min]\", fontsize=26)\n",
    "plt.grid()\n",
    "plt.legend(fontsize=20)\n",
    "plt.savefig('./images/M2x-normalized')"
   ]
  },
  {
   "cell_type": "markdown",
   "metadata": {
    "deletable": true,
    "editable": true
   },
   "source": [
    "### y-direction"
   ]
  },
  {
   "cell_type": "raw",
   "metadata": {
    "collapsed": false,
    "deletable": true,
    "editable": true
   },
   "source": [
    "m2y=pd.DataFrame(mom2y[:]).T\n",
    "m2y.columns = files\n",
    "m2y.index = time\n",
    "m2y.iloc[:8].plot()\n",
    "plt.title('M2y-normalized versus time', fontsize=30)\n",
    "plt.ylabel(r\"$M_{2,y}$ [mm]\", fontsize=26)\n",
    "plt.xlabel(\"time [min]\", fontsize=26)\n",
    "plt.grid()\n",
    "plt.legend(fontsize=20)\n",
    "plt.savefig('./images/M2y-normalized')"
   ]
  },
  {
   "cell_type": "raw",
   "metadata": {
    "deletable": true,
    "editable": true
   },
   "source": [
    "### y-direction with moving average"
   ]
  },
  {
   "cell_type": "raw",
   "metadata": {
    "deletable": true,
    "editable": true
   },
   "source": [
    "def moving_average(a, n=3) :\n",
    "    ret = np.cumsum(a, dtype=float)\n",
    "    ret[n:] = ret[n:] - ret[:-n]\n",
    "    return ret[n - 1:] / n"
   ]
  },
  {
   "cell_type": "raw",
   "metadata": {
    "deletable": true,
    "editable": true
   },
   "source": []
  },
  {
   "cell_type": "raw",
   "metadata": {
    "deletable": true,
    "editable": true
   },
   "source": [
    "for di in files:\n",
    "    ma = moving_average(m2y[di].values[:8], n=30)\n",
    "    t = time[:ma.shape[0]]\n",
    "    plt.plot(t,ma, label=di)\n",
    "plt.title('M2y-normalized-averaged versus time', fontsize=30)\n",
    "plt.ylabel(r\"$M_{2,y}$ [mm]\", fontsize=26)\n",
    "plt.xlabel(\"time [min]\", fontsize=26)\n",
    "plt.grid()\n",
    "plt.legend(fontsize=20)\n",
    "plt.savefig('./images/M2y-normalized-averaged')"
   ]
  },
  {
   "cell_type": "markdown",
   "metadata": {
    "deletable": true,
    "editable": true
   },
   "source": [
    "# SPATIAL VARIANCE"
   ]
  },
  {
   "cell_type": "markdown",
   "metadata": {
    "deletable": true,
    "editable": true
   },
   "source": [
    "$${σ_x}^2= \\frac{{m_2}}{{m_0}} -μ^2  ---where--- (μ = \\frac{{m_1}}{{m_0}})$$"
   ]
  },
  {
   "cell_type": "raw",
   "metadata": {
    "collapsed": false,
    "deletable": true,
    "editable": true
   },
   "source": [
    "m2x"
   ]
  },
  {
   "cell_type": "code",
   "execution_count": null,
   "metadata": {
    "collapsed": false,
    "deletable": true,
    "editable": true
   },
   "outputs": [],
   "source": []
  },
  {
   "cell_type": "raw",
   "metadata": {
    "collapsed": false,
    "deletable": true,
    "editable": true
   },
   "source": [
    "sx2 = m2x - m1x**2\n",
    "sy2 = m2y - m1y**2"
   ]
  },
  {
   "cell_type": "raw",
   "metadata": {
    "collapsed": false,
    "deletable": true,
    "editable": true
   },
   "source": [
    "max_2 = 7#np.where(p.time==1000)[0][0]\n",
    "print(max_2)"
   ]
  },
  {
   "cell_type": "raw",
   "metadata": {
    "deletable": true,
    "editable": true
   },
   "source": [
    "### x-direction"
   ]
  },
  {
   "cell_type": "raw",
   "metadata": {
    "collapsed": false,
    "deletable": true,
    "editable": true
   },
   "source": [
    "sx2.iloc[:max_2].plot()\n",
    "plt.ylabel(r\"${s_x}^2 [m^2]$\")\n",
    "plt.xlabel(\"time [min]\")\n",
    "plt.grid()\n",
    "plt.legend(fontsize=20)"
   ]
  },
  {
   "cell_type": "markdown",
   "metadata": {
    "deletable": true,
    "editable": true
   },
   "source": [
    "### y-direction"
   ]
  },
  {
   "cell_type": "raw",
   "metadata": {
    "collapsed": false,
    "deletable": true,
    "editable": true
   },
   "source": [
    "sy2.iloc[:max_2-10].plot()\n",
    "plt.ylabel(r\"${s_y}^2 [m^2]$\")\n",
    "plt.xlabel(\"time [min]\")\n",
    "plt.grid()\n",
    "plt.legend(fontsize=20)"
   ]
  },
  {
   "cell_type": "markdown",
   "metadata": {
    "deletable": true,
    "editable": true
   },
   "source": [
    "### y-direction with moving average"
   ]
  },
  {
   "cell_type": "raw",
   "metadata": {
    "collapsed": false,
    "deletable": true,
    "editable": true
   },
   "source": [
    "for di in files:\n",
    "    ma = moving_average(sy2[di].values[:max_-10], n=30)\n",
    "    t = p.time[:ma.shape[0]]\n",
    "    plt.plot(t,ma)"
   ]
  },
  {
   "cell_type": "markdown",
   "metadata": {
    "deletable": true,
    "editable": true
   },
   "source": [
    "# computing diffusion coeficient"
   ]
  },
  {
   "cell_type": "markdown",
   "metadata": {
    "deletable": true,
    "editable": true
   },
   "source": [
    "${s_x}^2 = 2{D_m}_xt$"
   ]
  },
  {
   "cell_type": "markdown",
   "metadata": {
    "deletable": true,
    "editable": true
   },
   "source": [
    "### x-direction"
   ]
  },
  {
   "cell_type": "raw",
   "metadata": {
    "collapsed": false,
    "deletable": true,
    "editable": true
   },
   "source": [
    "dmx = []\n",
    "for di in sx2.columns:\n",
    "    data = sx2[di].iloc[:max_2]\n",
    "    slope, intercept, r_value, p_value, std_err = stats.linregress(data.index[:300],data.values[:300])\n",
    "    print(\"The R^2 value for the diameter {1} [nm] is: {0}. The intersept is: {2}\".format(r_value**2,di.split(\"_\")[-2], intercept))\n",
    "    dmx.append(slope/2)\n",
    "\n",
    "plt.plot(d,dmx)\n",
    "plt.ylabel(r\"${D_m}_x [{mm^2}/min]$\")\n",
    "plt.xlabel(r\"$ d_p [nm]$\")"
   ]
  },
  {
   "cell_type": "markdown",
   "metadata": {
    "deletable": true,
    "editable": true
   },
   "source": [
    "### y-direction"
   ]
  },
  {
   "cell_type": "markdown",
   "metadata": {
    "deletable": true,
    "editable": true
   },
   "source": [
    "${s_y}^2 = 2{D_m}_yt$"
   ]
  },
  {
   "cell_type": "raw",
   "metadata": {
    "collapsed": false,
    "deletable": true,
    "editable": true
   },
   "source": [
    "dmy = []\n",
    "for di in sy2.columns:\n",
    "    data = sy2[di].iloc[:max_2]\n",
    "    slope, intercept, r_value, p_value, std_err = stats.linregress(data.index[:300],data.values[:300])\n",
    "    print(\"The R^2 value for the diameter {1} [nm] is: {0}\".format(r_value**2,di.split(\"_\")[-2]),intercept)\n",
    "    dmy.append(slope/2)\n",
    "\n",
    "# slope, intercept, r_value, p_value, std_err = stats.linregress(d,dmy)\n",
    "# print(r_value)\n",
    "plt.plot(d,dmy)\n",
    "plt.ylabel(r\"${D_m}_y [{mm^2}/min]$\")\n",
    "plt.xlabel(r\"$ d_p [nm]$\")"
   ]
  },
  {
   "cell_type": "markdown",
   "metadata": {
    "deletable": true,
    "editable": true
   },
   "source": [
    "### y- direction with moving average"
   ]
  },
  {
   "cell_type": "raw",
   "metadata": {
    "collapsed": false,
    "deletable": true,
    "editable": true
   },
   "source": [
    "dmyma = []\n",
    "for di in sy2.columns:\n",
    "    data = sy2[di].iloc[:max_2]\n",
    "    ma = moving_average(data.values, n=30)\n",
    "    print(ma.shape)\n",
    "    print(data.shape)\n",
    "    slope, intercept, r_value, p_value, std_err = stats.linregress(data.index[:ma.shape[0]],ma[:300])\n",
    "    print(\"The R^2 value for the diameter {1} [nm] is: {0}\".format(r_value**2,di.split(\"_\")[-2]),intercept)\n",
    "    dmyma.append(slope/2)\n",
    "plt.plot(d,dmyma)\n",
    "plt.ylabel(r\"${D_m}_y [{mm^2}/min]$\")\n",
    "plt.xlabel(r\"$ d_p [nm]$\")"
   ]
  },
  {
   "cell_type": "raw",
   "metadata": {
    "deletable": true,
    "editable": true
   },
   "source": [
    "# Dispersivity"
   ]
  },
  {
   "cell_type": "markdown",
   "metadata": {
    "deletable": true,
    "editable": true
   },
   "source": [
    "### x-direction"
   ]
  },
  {
   "cell_type": "raw",
   "metadata": {
    "collapsed": false,
    "deletable": true,
    "editable": true
   },
   "source": [
    "v_av =  0.0000006 # m/s still needs to be checked"
   ]
  },
  {
   "cell_type": "raw",
   "metadata": {
    "collapsed": false,
    "deletable": true,
    "editable": true
   },
   "source": [
    "a_x = []\n",
    "for di in dmx:\n",
    "    a_x.append(di/v_ave)\n",
    "\n",
    "plt.plot(d,a_x)\n",
    "plt.ylabel(r\"$a_x [mm]$\")\n",
    "plt.xlabel(r\"$ d_p [nm]$\")"
   ]
  },
  {
   "cell_type": "raw",
   "metadata": {
    "deletable": true,
    "editable": true
   },
   "source": [
    "as we can see the value of the dispersivity parameter grows as we increase the particle diameter."
   ]
  },
  {
   "cell_type": "markdown",
   "metadata": {
    "deletable": true,
    "editable": true
   },
   "source": [
    "### y-direction"
   ]
  },
  {
   "cell_type": "raw",
   "metadata": {
    "collapsed": false,
    "deletable": true,
    "editable": true
   },
   "source": [
    "a_y = []\n",
    "for di in dmy:\n",
    "    a_y.append(di/v_ave)\n",
    "plt.plot(d,a_y)\n",
    "plt.ylabel(r\"$a_y [mm]$\")\n",
    "plt.xlabel(r\"$ d_p [nm]$\")"
   ]
  },
  {
   "cell_type": "markdown",
   "metadata": {
    "deletable": true,
    "editable": true
   },
   "source": [
    "### y- direction with moving average"
   ]
  },
  {
   "cell_type": "raw",
   "metadata": {
    "collapsed": false,
    "deletable": true,
    "editable": true
   },
   "source": [
    "a_yma = []\n",
    "for di in dmyma:\n",
    "    a_yma.append(di/v_ave)\n",
    "plt.plot(d,a_yma)\n",
    "plt.ylabel(r\"$a_y [mm]$\")\n",
    "plt.xlabel(r\"$ d_p [nm]$\")"
   ]
  },
  {
   "cell_type": "code",
   "execution_count": null,
   "metadata": {
    "collapsed": true,
    "deletable": true,
    "editable": true
   },
   "outputs": [],
   "source": []
  }
 ],
 "metadata": {
  "kernelspec": {
   "display_name": "Python 2",
   "language": "python",
   "name": "python2"
  },
  "language_info": {
   "codemirror_mode": {
    "name": "ipython",
    "version": 2
   },
   "file_extension": ".py",
   "mimetype": "text/x-python",
   "name": "python",
   "nbconvert_exporter": "python",
   "pygments_lexer": "ipython2",
   "version": "2.7.5"
  }
 },
 "nbformat": 4,
 "nbformat_minor": 0
}
